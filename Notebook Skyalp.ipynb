{
 "cells": [
  {
   "cell_type": "markdown",
   "metadata": {},
   "source": [
    "**Skyalp scenario**"
   ]
  },
  {
   "cell_type": "code",
   "execution_count": null,
   "metadata": {},
   "outputs": [],
   "source": [
    "from utils.utils import *\n",
    "from utils.data import *"
   ]
  },
  {
   "cell_type": "markdown",
   "metadata": {},
   "source": [
    "1. Hypothesis"
   ]
  },
  {
   "cell_type": "code",
   "execution_count": null,
   "metadata": {},
   "outputs": [],
   "source": [
    "# Emissions de CO2 en 2023\n",
    "CO2_2023 = 10000.0        # tCO2/an\n",
    "\n",
    "# Augmentation des emissions en tC02 / an\n",
    "CO2_supp = 10000.0        # tCO2/an\n",
    "\n",
    "# Période considérée\n",
    "debut = 2023\n",
    "fin = 2030\n",
    "\n",
    "# Allowance gratuite en 2023 : émissions de CO2 2023\n",
    "allowance_free_2023 = CO2_2023"
   ]
  },
  {
   "cell_type": "markdown",
   "metadata": {},
   "source": [
    "2. Data"
   ]
  },
  {
   "cell_type": "code",
   "execution_count": null,
   "metadata": {},
   "outputs": [],
   "source": [
    "\n",
    "# Tableau des émissions / an\n",
    "nbr_annee = fin - debut +1\n",
    "CO2_em = np.linspace(CO2_2023, CO2_supp * nbr_annee, nbr_annee)\n",
    "\n",
    "volume_carbu_an = CO2_em * 1000000/(nrj_volum_kero * core_lca_kero)\n",
    "\n",
    "# Objectifs incorporations saf EU\n",
    "incorpo_saf_eu = np.concatenate((np.linspace(obj_2023, obj_2025, 2025-debut+1)[:-1],\n",
    "                                 np.linspace(obj_2025, obj_2030, fin-2025+1)))\n",
    "\n",
    "# Quotas carbone\n",
    "quota_eu = np.array([quota_2023, quota_2024, quota_2025, quota_2026, 0, 0, 0, 0])\n",
    "\n",
    "# Carbon price\n",
    "carbonprice = np.linspace(carbonprice_2023, carbonprice_2030, fin-debut+1)\n",
    "\n",
    "# Tableau des émissions / an\n",
    "nbr_annee = fin - debut +1\n",
    "CO2_em = np.linspace(CO2_2023, CO2_supp * nbr_annee, nbr_annee)\n",
    "\n",
    "volume_carbu_an = CO2_em * 1000000/(nrj_volum_kero * core_lca_kero)\n",
    "\n",
    "# Objectifs incorporations saf EU\n",
    "incorpo_saf_eu = np.concatenate((np.linspace(obj_2023, obj_2025, 2025-debut+1)[:-1],\n",
    "                                 np.linspace(obj_2025, obj_2030, fin-2025+1)))\n",
    "\n",
    "# Quotas carbone\n",
    "quota_eu = np.array([quota_2023, quota_2024, quota_2025, quota_2026, 0, 0, 0, 0])\n",
    "\n",
    "# Carbon price\n",
    "carbonprice = np.linspace(carbonprice_2023, carbonprice_2030, fin-debut+1)"
   ]
  },
  {
   "cell_type": "markdown",
   "metadata": {},
   "source": [
    "3. Incorporation rate"
   ]
  },
  {
   "cell_type": "code",
   "execution_count": null,
   "metadata": {},
   "outputs": [],
   "source": [
    "# Incorporations\n",
    "incorpo_2023 = 0              # *100 %\n",
    "incorpo_2024 = 0.05           # *100 %\n",
    "incorpo_2025 = 0.10           # *100 %\n",
    "incorpo_2026 = 0.15           # *100 %\n",
    "incorpo_2027 = 0.20           # *100 %\n",
    "incorpo_2028 = 0.30           # *100 %\n",
    "incorpo_2029 = 0.40           # *100 %\n",
    "incorpo_2030 = 0.50           # *100 %\n",
    "\n",
    "incorpo_saf = np.array([incorpo_2023, incorpo_2024, incorpo_2025, incorpo_2026, incorpo_2027, incorpo_2028, incorpo_2029, incorpo_2030])\n"
   ]
  },
  {
   "cell_type": "markdown",
   "metadata": {},
   "source": [
    "4. Computation"
   ]
  },
  {
   "cell_type": "code",
   "execution_count": null,
   "metadata": {},
   "outputs": [],
   "source": [
    "C_MP_k, C_CO2_k, C_MP_SAF, R_UE, C_MP_k0, C_CO2_k0 = calculs_with_saf(debut, fin, volume_carbu_an,incorpo_saf, allowance_free_2023, quota_eu, carbonprice, price_saf, price_kero, allowance_SAF)"
   ]
  },
  {
   "cell_type": "markdown",
   "metadata": {},
   "source": [
    "5. Graphs"
   ]
  },
  {
   "cell_type": "code",
   "execution_count": null,
   "metadata": {},
   "outputs": [],
   "source": [
    "labels = ['Kérosène',\n",
    "          ' Coût carbone kérosène (après quotas gratuits)',\n",
    "          'SAF',\n",
    "          'Allowances',\n",
    "          'Prix Final',\n",
    "          'Scénario NO SAF']\n",
    "\n",
    "data = np.array([np.round(C_MP_k/1000000,2),\n",
    "                 np.round(C_CO2_k/1000000,2),\n",
    "                 np.round(C_MP_SAF/1000000,2),\n",
    "                 np.round(R_UE/1000000,2),\n",
    "                 np.round((C_MP_k+C_CO2_k+C_MP_SAF+R_UE)/1000000,2),\n",
    "                 np.round((C_MP_k0 + C_CO2_k0)/1000000,2)])\n",
    "\n",
    "if __name__ == '__main__':\n",
    "    \n",
    "    graphique(data, labels, debut, fin, incorpo_saf)\n",
    "    graphique_hypotheses(debut, fin, carbonprice, quota_eu, incorpo_saf)\n",
    "    graphique_emissionscarbone(CO2_em, incorpo_saf_eu, incorpo_saf)\n",
    "    graphique_carbonprice(debut, fin, carbonprice, price_saf, price_kero, allowance_SAF)"
   ]
  }
 ],
 "metadata": {
  "language_info": {
   "name": "python"
  }
 },
 "nbformat": 4,
 "nbformat_minor": 2
}
