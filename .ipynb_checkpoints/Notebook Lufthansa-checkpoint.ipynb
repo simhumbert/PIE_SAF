{
 "cells": [
  {
   "cell_type": "markdown",
   "metadata": {},
   "source": [
    "# **Lufthansa scenario**"
   ]
  },
  {
   "cell_type": "code",
   "execution_count": 10,
   "metadata": {
    "tags": []
   },
   "outputs": [],
   "source": [
    "from utils.utils import *\n",
    "from utils.data import *\n",
    "import os"
   ]
  },
  {
   "cell_type": "markdown",
   "metadata": {
    "user_expressions": []
   },
   "source": [
    "### 1. Hypothesis (to be modified)"
   ]
  },
  {
   "cell_type": "code",
   "execution_count": 2,
   "metadata": {
    "tags": []
   },
   "outputs": [],
   "source": [
    "# Emissions de CO2 en 2023\n",
    "CO2_2023 = 22.0 * 10**6        # tCO2/an\n",
    "\n",
    "# Hypothèses flotte A320\n",
    "nbr_old_start = 126\n",
    "nbr_new_start = 39\n",
    "replacement_nbr = 17\n",
    "em_reduction_rate = 0.15\n",
    "nbr_add_annual = 0\n",
    "\n",
    "# Part du marché dans l'UE\n",
    "market_eu = 0.43\n",
    "\n",
    "# Augmentation des emissions en tC02 / an\n",
    "CO2_supp = 0       # tCO2/an\n",
    "\n",
    "# Période considérée\n",
    "debut = 2023\n",
    "fin = 2030\n",
    "\n",
    "# Allowance gratuite en 2023 : émissions de CO2 2023\n",
    "allowance_free_2023 = CO2_2023 * market_eu"
   ]
  },
  {
   "cell_type": "markdown",
   "metadata": {
    "user_expressions": []
   },
   "source": [
    "### 2. Data"
   ]
  },
  {
   "cell_type": "code",
   "execution_count": 3,
   "metadata": {
    "tags": []
   },
   "outputs": [],
   "source": [
    "# Tableau des émissions mondiales / an\n",
    "volume_carbu_an, CO2_emission = fleet_carbu(debut, fin, CO2_2023, nbr_old_start, nbr_new_start, replacement_nbr, em_reduction_rate, nbr_add_annual)\n",
    "\n",
    "# Tableau des émissions dans l'UE / an\n",
    "emission_euets_luft = np.array([round(market_eu * i,2) for i in CO2_emission])\n",
    "volume_euets_luft = np.array([round(market_eu*i,2) for i in volume_carbu_an])\n",
    "\n",
    "# Objectifs incorporations saf EU\n",
    "incorpo_saf_eu = np.concatenate((np.linspace(obj_2023, obj_2025, 2025-debut+1)[:-1],\n",
    "                                 np.linspace(obj_2025, obj_2030, fin-2025+1)))\n",
    "\n",
    "# Quotas carbone\n",
    "quota_eu = np.array([quota_2023, quota_2024, quota_2025, quota_2026, 0, 0, 0, 0])\n",
    "\n",
    "# Carbon price\n",
    "carbonprice = np.linspace(carbonprice_2023, carbonprice_2030, fin-debut+1)"
   ]
  },
  {
   "cell_type": "markdown",
   "metadata": {
    "user_expressions": []
   },
   "source": [
    "### 3. Incorporation rate (to be modified)"
   ]
  },
  {
   "cell_type": "code",
   "execution_count": 4,
   "metadata": {
    "tags": []
   },
   "outputs": [],
   "source": [
    "# Incorporations\n",
    "incorpo_2023 = 0              # *100 %\n",
    "incorpo_2024 = 0.05           # *100 %\n",
    "incorpo_2025 = 0.10           # *100 %\n",
    "incorpo_2026 = 0.15           # *100 %\n",
    "incorpo_2027 = 0.20           # *100 %\n",
    "incorpo_2028 = 0.30           # *100 %\n",
    "incorpo_2029 = 0.40           # *100 %\n",
    "incorpo_2030 = 0.50           # *100 %\n",
    "\n",
    "incorpo_saf = np.array([incorpo_2023, incorpo_2024, incorpo_2025, incorpo_2026, incorpo_2027, incorpo_2028, incorpo_2029, incorpo_2030])\n"
   ]
  },
  {
   "cell_type": "markdown",
   "metadata": {
    "user_expressions": []
   },
   "source": [
    "### 4. Computation"
   ]
  },
  {
   "cell_type": "code",
   "execution_count": 5,
   "metadata": {
    "tags": []
   },
   "outputs": [],
   "source": [
    "C_MP_k, C_CO2_k, C_MP_SAF, R_UE, C_MP_k0, C_CO2_k0 = calculs_with_saf(debut, fin, volume_euets_luft,incorpo_saf_eu, allowance_free_2023, quota_eu, carbonprice, price_saf, price_kero, allowance_SAF)"
   ]
  },
  {
   "cell_type": "markdown",
   "metadata": {
    "user_expressions": []
   },
   "source": [
    "### 5. Graphs"
   ]
  },
  {
   "cell_type": "code",
   "execution_count": 9,
   "metadata": {
    "tags": []
   },
   "outputs": [
    {
     "ename": "NameError",
     "evalue": "name 'os' is not defined",
     "output_type": "error",
     "traceback": [
      "\u001b[0;31m---------------------------------------------------------------------------\u001b[0m",
      "\u001b[0;31mNameError\u001b[0m                                 Traceback (most recent call last)",
      "Cell \u001b[0;32mIn[9], line 17\u001b[0m\n\u001b[1;32m     15\u001b[0m \u001b[38;5;28;01mif\u001b[39;00m \u001b[38;5;18m__name__\u001b[39m \u001b[38;5;241m==\u001b[39m \u001b[38;5;124m'\u001b[39m\u001b[38;5;124m__main__\u001b[39m\u001b[38;5;124m'\u001b[39m:\n\u001b[1;32m     16\u001b[0m     dossier \u001b[38;5;241m=\u001b[39m \u001b[38;5;124m\"\u001b[39m\u001b[38;5;124mluft_plots\u001b[39m\u001b[38;5;124m\"\u001b[39m\n\u001b[0;32m---> 17\u001b[0m     \u001b[38;5;28;01mif\u001b[39;00m \u001b[38;5;129;01mnot\u001b[39;00m \u001b[43mos\u001b[49m\u001b[38;5;241m.\u001b[39mpath\u001b[38;5;241m.\u001b[39mexists(dossier):\n\u001b[1;32m     18\u001b[0m         os\u001b[38;5;241m.\u001b[39mmakedirs(dossier)\n\u001b[1;32m     19\u001b[0m     graphique(data, labels, debut, fin, incorpo_saf_eu, \u001b[38;5;124m'\u001b[39m\u001b[38;5;124mluft_cost_previsions\u001b[39m\u001b[38;5;124m'\u001b[39m, dossier)\n",
      "\u001b[0;31mNameError\u001b[0m: name 'os' is not defined"
     ]
    }
   ],
   "source": [
    "labels = ['Kerosene Cost',\n",
    "          'Carbon Cost Kerosene (after free quotas)',\n",
    "          'SAF Cost',\n",
    "          'Allowances Discount',\n",
    "          'Scenario with SAF',\n",
    "          'Scenario without SAF']\n",
    "\n",
    "data = np.array([np.round(C_MP_k/1000000,2),\n",
    "                 np.round(C_CO2_k/1000000,2),\n",
    "                 np.round(C_MP_SAF/1000000,2),\n",
    "                 np.round(R_UE/1000000,2),\n",
    "                 np.round((C_MP_k+C_CO2_k+C_MP_SAF+R_UE)/1000000,2),\n",
    "                 np.round((C_MP_k0 + C_CO2_k0)/1000000,2)])\n",
    "\n",
    "if __name__ == '__main__':\n",
    "    dossier = \"luft_plots\"\n",
    "    if not os.path.exists(dossier):\n",
    "        os.makedirs(dossier)\n",
    "    graphique(data, labels, debut, fin, incorpo_saf_eu, 'luft_cost_previsions', dossier)\n",
    "    graphique_emissionscarbone(emission_euets_luft, incorpo_saf_eu, incorpo_saf, 'luft_carbon_emissions')\n",
    "    graphique_hypotheses(debut, fin, carbonprice, quota_eu, incorpo_saf_eu, 'luft_price_hyp','luft_carb_hyp','luft_saf_incorpo')"
   ]
  },
  {
   "cell_type": "code",
   "execution_count": null,
   "metadata": {},
   "outputs": [],
   "source": []
  },
  {
   "cell_type": "code",
   "execution_count": null,
   "metadata": {},
   "outputs": [],
   "source": []
  }
 ],
 "metadata": {
  "kernelspec": {
   "display_name": "Python 3 (ipykernel)",
   "language": "python",
   "name": "python3"
  },
  "language_info": {
   "codemirror_mode": {
    "name": "ipython",
    "version": 3
   },
   "file_extension": ".py",
   "mimetype": "text/x-python",
   "name": "python",
   "nbconvert_exporter": "python",
   "pygments_lexer": "ipython3",
   "version": "3.11.4"
  }
 },
 "nbformat": 4,
 "nbformat_minor": 4
}
